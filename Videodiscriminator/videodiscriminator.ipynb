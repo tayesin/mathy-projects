{
 "cells": [
  {
   "cell_type": "code",
   "execution_count": 1,
   "metadata": {},
   "outputs": [],
   "source": [
    "import cv2 as cv\n",
    "import numpy as np\n",
    "import matplotlib.pyplot as plt\n",
    "import cvxpy as cp\n",
    "from tqdm import tqdm\n",
    "from joblib import Parallel, delayed"
   ]
  },
  {
   "cell_type": "code",
   "execution_count": 2,
   "metadata": {},
   "outputs": [],
   "source": [
    "def get_frames_as_matrix(video_path):\n",
    "    cap = cv.VideoCapture(video_path)\n",
    "    frames = []\n",
    "    # counter = 5\n",
    "    while cap.isOpened():\n",
    "        ret, frame = cap.read()\n",
    "        if not ret:\n",
    "            break\n",
    "        # if not start:\n",
    "        #     start -= 1\n",
    "        #     continue\n",
    "        frame = cv.cvtColor(frame, cv.COLOR_BGR2GRAY)\n",
    "        frames.append(frame)\n",
    "        # counter -= 1\n",
    "\n",
    "    cap.release()\n",
    "    return np.array(frames)"
   ]
  },
  {
   "cell_type": "code",
   "execution_count": 3,
   "metadata": {},
   "outputs": [],
   "source": [
    "frames = get_frames_as_matrix(\"cctvfootage.mp4\")\n"
   ]
  },
  {
   "cell_type": "code",
   "execution_count": 4,
   "metadata": {},
   "outputs": [],
   "source": [
    "# plt.imshow(frames[200], cmap='gray')\n",
    "# plt.axis('off')\n",
    "# plt.show()"
   ]
  },
  {
   "cell_type": "code",
   "execution_count": 5,
   "metadata": {},
   "outputs": [
    {
     "data": {
      "text/plain": [
       "(2073600, 5)"
      ]
     },
     "execution_count": 5,
     "metadata": {},
     "output_type": "execute_result"
    }
   ],
   "source": [
    "def vectorize_matrix(frames, n_jobs=-1):\n",
    "    # result = frames[0].flatten(order='F')\n",
    "    # for i in tqdm(range(1, len(frames))):\n",
    "    #     flattened = frames[i].flatten(order='F')\n",
    "    #     result = np.vstack((result, flattened))\n",
    "    flattened_frames = Parallel(n_jobs=n_jobs)(\n",
    "        delayed(lambda frame: frame.flatten(order='F'))(frame) for frame in frames\n",
    "    )\n",
    "    return np.vstack(flattened_frames).T\n",
    "\n",
    "Y = vectorize_matrix(frames[400: 405])\n",
    "Y.shape"
   ]
  },
  {
   "cell_type": "code",
   "execution_count": 6,
   "metadata": {},
   "outputs": [],
   "source": [
    "def solve_optimization(Y, lam):\n",
    "    m, n = Y.shape\n",
    "    X = cp.Variable((m, n))\n",
    "    Z = cp.Variable((m, n))\n",
    "\n",
    "    objective = cp.normNuc(X) + lam * cp.norm(Z, 1)\n",
    "    constraints = [Y == X + Z]\n",
    "\n",
    "    problem = cp.Problem(cp.Minimize(objective), constraints)\n",
    "    objective_value = problem.solve()\n",
    "\n",
    "    return X.value, Z.value, objective_value"
   ]
  },
  {
   "cell_type": "code",
   "execution_count": 7,
   "metadata": {},
   "outputs": [
    {
     "ename": "",
     "evalue": "",
     "output_type": "error",
     "traceback": [
      "\u001b[1;31mThe Kernel crashed while executing code in the current cell or a previous cell. \n",
      "\u001b[1;31mPlease review the code in the cell(s) to identify a possible cause of the failure. \n",
      "\u001b[1;31mClick <a href='https://aka.ms/vscodeJupyterKernelCrash'>here</a> for more info. \n",
      "\u001b[1;31mView Jupyter <a href='command:jupyter.viewOutput'>log</a> for further details."
     ]
    }
   ],
   "source": [
    "x, z, opt = solve_optimization(Y, 1 / (np.sqrt(Y.shape[0])))"
   ]
  },
  {
   "cell_type": "code",
   "execution_count": null,
   "metadata": {},
   "outputs": [],
   "source": []
  }
 ],
 "metadata": {
  "kernelspec": {
   "display_name": "127env",
   "language": "python",
   "name": "python3"
  },
  "language_info": {
   "codemirror_mode": {
    "name": "ipython",
    "version": 3
   },
   "file_extension": ".py",
   "mimetype": "text/x-python",
   "name": "python",
   "nbconvert_exporter": "python",
   "pygments_lexer": "ipython3",
   "version": "3.12.2"
  }
 },
 "nbformat": 4,
 "nbformat_minor": 2
}
